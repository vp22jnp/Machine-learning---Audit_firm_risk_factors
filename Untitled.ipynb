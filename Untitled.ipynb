{
 "cells": [
  {
   "cell_type": "code",
   "execution_count": 1,
   "id": "7f6dd557-0851-468b-b741-1e8a3ae32412",
   "metadata": {},
   "outputs": [],
   "source": [
    "import numpy as np\n",
    "import pandas as pd\n",
    "import matplotlib.pyplot as plt\n",
    "import seaborn as sns\n",
    "sns.set_style(style='darkgrid')"
   ]
  },
  {
   "cell_type": "code",
   "execution_count": 5,
   "id": "697e5b61-143d-43c7-a24f-d19609a6f39c",
   "metadata": {},
   "outputs": [],
   "source": [
    "data=pd.read_csv('Audit_firm_risk_factors.csv')"
   ]
  },
  {
   "cell_type": "code",
   "execution_count": 7,
   "id": "3885cb96-5212-4819-8a47-64658d30cc1d",
   "metadata": {},
   "outputs": [
    {
     "data": {
      "text/html": [
       "<div>\n",
       "<style scoped>\n",
       "    .dataframe tbody tr th:only-of-type {\n",
       "        vertical-align: middle;\n",
       "    }\n",
       "\n",
       "    .dataframe tbody tr th {\n",
       "        vertical-align: top;\n",
       "    }\n",
       "\n",
       "    .dataframe thead th {\n",
       "        text-align: right;\n",
       "    }\n",
       "</style>\n",
       "<table border=\"1\" class=\"dataframe\">\n",
       "  <thead>\n",
       "    <tr style=\"text-align: right;\">\n",
       "      <th></th>\n",
       "      <th>Unnamed: 0</th>\n",
       "      <th>PARA_A</th>\n",
       "      <th>PARA_B</th>\n",
       "      <th>TOTAL</th>\n",
       "      <th>Sector_score</th>\n",
       "      <th>numbers</th>\n",
       "      <th>LOSS_SCORE</th>\n",
       "      <th>Money_Value</th>\n",
       "      <th>History_score</th>\n",
       "      <th>District</th>\n",
       "      <th>Risk</th>\n",
       "    </tr>\n",
       "  </thead>\n",
       "  <tbody>\n",
       "    <tr>\n",
       "      <th>0</th>\n",
       "      <td>0</td>\n",
       "      <td>4.18</td>\n",
       "      <td>2.50</td>\n",
       "      <td>6.68</td>\n",
       "      <td>3.89</td>\n",
       "      <td>5.0</td>\n",
       "      <td>2</td>\n",
       "      <td>3.38</td>\n",
       "      <td>2</td>\n",
       "      <td>2</td>\n",
       "      <td>1</td>\n",
       "    </tr>\n",
       "    <tr>\n",
       "      <th>1</th>\n",
       "      <td>1</td>\n",
       "      <td>0.00</td>\n",
       "      <td>4.83</td>\n",
       "      <td>4.83</td>\n",
       "      <td>3.89</td>\n",
       "      <td>5.0</td>\n",
       "      <td>2</td>\n",
       "      <td>0.94</td>\n",
       "      <td>2</td>\n",
       "      <td>2</td>\n",
       "      <td>0</td>\n",
       "    </tr>\n",
       "    <tr>\n",
       "      <th>2</th>\n",
       "      <td>2</td>\n",
       "      <td>0.51</td>\n",
       "      <td>0.23</td>\n",
       "      <td>0.74</td>\n",
       "      <td>3.89</td>\n",
       "      <td>5.0</td>\n",
       "      <td>2</td>\n",
       "      <td>0.00</td>\n",
       "      <td>2</td>\n",
       "      <td>2</td>\n",
       "      <td>0</td>\n",
       "    </tr>\n",
       "    <tr>\n",
       "      <th>3</th>\n",
       "      <td>3</td>\n",
       "      <td>0.00</td>\n",
       "      <td>10.80</td>\n",
       "      <td>10.80</td>\n",
       "      <td>3.89</td>\n",
       "      <td>6.0</td>\n",
       "      <td>2</td>\n",
       "      <td>11.75</td>\n",
       "      <td>2</td>\n",
       "      <td>2</td>\n",
       "      <td>1</td>\n",
       "    </tr>\n",
       "    <tr>\n",
       "      <th>4</th>\n",
       "      <td>4</td>\n",
       "      <td>0.00</td>\n",
       "      <td>0.08</td>\n",
       "      <td>0.08</td>\n",
       "      <td>3.89</td>\n",
       "      <td>5.0</td>\n",
       "      <td>2</td>\n",
       "      <td>0.00</td>\n",
       "      <td>2</td>\n",
       "      <td>2</td>\n",
       "      <td>0</td>\n",
       "    </tr>\n",
       "  </tbody>\n",
       "</table>\n",
       "</div>"
      ],
      "text/plain": [
       "   Unnamed: 0  PARA_A  PARA_B  TOTAL  Sector_score  numbers  LOSS_SCORE  \\\n",
       "0           0    4.18    2.50   6.68          3.89      5.0           2   \n",
       "1           1    0.00    4.83   4.83          3.89      5.0           2   \n",
       "2           2    0.51    0.23   0.74          3.89      5.0           2   \n",
       "3           3    0.00   10.80  10.80          3.89      6.0           2   \n",
       "4           4    0.00    0.08   0.08          3.89      5.0           2   \n",
       "\n",
       "   Money_Value  History_score  District  Risk  \n",
       "0         3.38              2         2     1  \n",
       "1         0.94              2         2     0  \n",
       "2         0.00              2         2     0  \n",
       "3        11.75              2         2     1  \n",
       "4         0.00              2         2     0  "
      ]
     },
     "execution_count": 7,
     "metadata": {},
     "output_type": "execute_result"
    }
   ],
   "source": [
    "data.head()"
   ]
  },
  {
   "cell_type": "code",
   "execution_count": 8,
   "id": "a5b90ce2-04ad-4f56-b88e-291b2fe48fcb",
   "metadata": {},
   "outputs": [
    {
     "data": {
      "text/plain": [
       "Unnamed: 0       0\n",
       "PARA_A           0\n",
       "PARA_B           0\n",
       "TOTAL            0\n",
       "Sector_score     0\n",
       "numbers          0\n",
       "LOSS_SCORE       0\n",
       "Money_Value      1\n",
       "History_score    0\n",
       "District         0\n",
       "Risk             0\n",
       "dtype: int64"
      ]
     },
     "execution_count": 8,
     "metadata": {},
     "output_type": "execute_result"
    }
   ],
   "source": [
    "data.isnull().sum()"
   ]
  },
  {
   "cell_type": "code",
   "execution_count": 9,
   "id": "3675f431-d39f-4555-b1a2-c2e52bdcf713",
   "metadata": {},
   "outputs": [
    {
     "data": {
      "text/html": [
       "<div>\n",
       "<style scoped>\n",
       "    .dataframe tbody tr th:only-of-type {\n",
       "        vertical-align: middle;\n",
       "    }\n",
       "\n",
       "    .dataframe tbody tr th {\n",
       "        vertical-align: top;\n",
       "    }\n",
       "\n",
       "    .dataframe thead th {\n",
       "        text-align: right;\n",
       "    }\n",
       "</style>\n",
       "<table border=\"1\" class=\"dataframe\">\n",
       "  <thead>\n",
       "    <tr style=\"text-align: right;\">\n",
       "      <th></th>\n",
       "      <th>Unnamed: 0</th>\n",
       "      <th>PARA_A</th>\n",
       "      <th>PARA_B</th>\n",
       "      <th>TOTAL</th>\n",
       "      <th>Sector_score</th>\n",
       "      <th>numbers</th>\n",
       "      <th>LOSS_SCORE</th>\n",
       "      <th>Money_Value</th>\n",
       "      <th>History_score</th>\n",
       "      <th>District</th>\n",
       "      <th>Risk</th>\n",
       "    </tr>\n",
       "  </thead>\n",
       "  <tbody>\n",
       "    <tr>\n",
       "      <th>count</th>\n",
       "      <td>776.000000</td>\n",
       "      <td>776.000000</td>\n",
       "      <td>776.000000</td>\n",
       "      <td>776.000000</td>\n",
       "      <td>776.000000</td>\n",
       "      <td>776.000000</td>\n",
       "      <td>776.000000</td>\n",
       "      <td>775.000000</td>\n",
       "      <td>776.000000</td>\n",
       "      <td>776.000000</td>\n",
       "      <td>776.000000</td>\n",
       "    </tr>\n",
       "    <tr>\n",
       "      <th>mean</th>\n",
       "      <td>387.500000</td>\n",
       "      <td>2.450194</td>\n",
       "      <td>10.799988</td>\n",
       "      <td>13.218481</td>\n",
       "      <td>20.184536</td>\n",
       "      <td>5.067655</td>\n",
       "      <td>2.061856</td>\n",
       "      <td>14.137631</td>\n",
       "      <td>2.167526</td>\n",
       "      <td>2.505155</td>\n",
       "      <td>0.626289</td>\n",
       "    </tr>\n",
       "    <tr>\n",
       "      <th>std</th>\n",
       "      <td>224.156196</td>\n",
       "      <td>5.678870</td>\n",
       "      <td>50.083624</td>\n",
       "      <td>51.312829</td>\n",
       "      <td>24.319017</td>\n",
       "      <td>0.264449</td>\n",
       "      <td>0.375080</td>\n",
       "      <td>66.606519</td>\n",
       "      <td>0.679869</td>\n",
       "      <td>1.228678</td>\n",
       "      <td>0.484100</td>\n",
       "    </tr>\n",
       "    <tr>\n",
       "      <th>min</th>\n",
       "      <td>0.000000</td>\n",
       "      <td>0.000000</td>\n",
       "      <td>0.000000</td>\n",
       "      <td>0.000000</td>\n",
       "      <td>1.850000</td>\n",
       "      <td>5.000000</td>\n",
       "      <td>2.000000</td>\n",
       "      <td>0.000000</td>\n",
       "      <td>2.000000</td>\n",
       "      <td>2.000000</td>\n",
       "      <td>0.000000</td>\n",
       "    </tr>\n",
       "    <tr>\n",
       "      <th>25%</th>\n",
       "      <td>193.750000</td>\n",
       "      <td>0.210000</td>\n",
       "      <td>0.000000</td>\n",
       "      <td>0.537500</td>\n",
       "      <td>2.370000</td>\n",
       "      <td>5.000000</td>\n",
       "      <td>2.000000</td>\n",
       "      <td>0.000000</td>\n",
       "      <td>2.000000</td>\n",
       "      <td>2.000000</td>\n",
       "      <td>0.000000</td>\n",
       "    </tr>\n",
       "    <tr>\n",
       "      <th>50%</th>\n",
       "      <td>387.500000</td>\n",
       "      <td>0.875000</td>\n",
       "      <td>0.405000</td>\n",
       "      <td>1.370000</td>\n",
       "      <td>3.890000</td>\n",
       "      <td>5.000000</td>\n",
       "      <td>2.000000</td>\n",
       "      <td>0.090000</td>\n",
       "      <td>2.000000</td>\n",
       "      <td>2.000000</td>\n",
       "      <td>1.000000</td>\n",
       "    </tr>\n",
       "    <tr>\n",
       "      <th>75%</th>\n",
       "      <td>581.250000</td>\n",
       "      <td>2.480000</td>\n",
       "      <td>4.160000</td>\n",
       "      <td>7.707500</td>\n",
       "      <td>55.570000</td>\n",
       "      <td>5.000000</td>\n",
       "      <td>2.000000</td>\n",
       "      <td>5.595000</td>\n",
       "      <td>2.000000</td>\n",
       "      <td>2.000000</td>\n",
       "      <td>1.000000</td>\n",
       "    </tr>\n",
       "    <tr>\n",
       "      <th>max</th>\n",
       "      <td>775.000000</td>\n",
       "      <td>85.000000</td>\n",
       "      <td>1264.630000</td>\n",
       "      <td>1268.910000</td>\n",
       "      <td>59.850000</td>\n",
       "      <td>9.000000</td>\n",
       "      <td>6.000000</td>\n",
       "      <td>935.030000</td>\n",
       "      <td>6.000000</td>\n",
       "      <td>6.000000</td>\n",
       "      <td>1.000000</td>\n",
       "    </tr>\n",
       "  </tbody>\n",
       "</table>\n",
       "</div>"
      ],
      "text/plain": [
       "       Unnamed: 0      PARA_A       PARA_B        TOTAL  Sector_score  \\\n",
       "count  776.000000  776.000000   776.000000   776.000000    776.000000   \n",
       "mean   387.500000    2.450194    10.799988    13.218481     20.184536   \n",
       "std    224.156196    5.678870    50.083624    51.312829     24.319017   \n",
       "min      0.000000    0.000000     0.000000     0.000000      1.850000   \n",
       "25%    193.750000    0.210000     0.000000     0.537500      2.370000   \n",
       "50%    387.500000    0.875000     0.405000     1.370000      3.890000   \n",
       "75%    581.250000    2.480000     4.160000     7.707500     55.570000   \n",
       "max    775.000000   85.000000  1264.630000  1268.910000     59.850000   \n",
       "\n",
       "          numbers  LOSS_SCORE  Money_Value  History_score    District  \\\n",
       "count  776.000000  776.000000   775.000000     776.000000  776.000000   \n",
       "mean     5.067655    2.061856    14.137631       2.167526    2.505155   \n",
       "std      0.264449    0.375080    66.606519       0.679869    1.228678   \n",
       "min      5.000000    2.000000     0.000000       2.000000    2.000000   \n",
       "25%      5.000000    2.000000     0.000000       2.000000    2.000000   \n",
       "50%      5.000000    2.000000     0.090000       2.000000    2.000000   \n",
       "75%      5.000000    2.000000     5.595000       2.000000    2.000000   \n",
       "max      9.000000    6.000000   935.030000       6.000000    6.000000   \n",
       "\n",
       "             Risk  \n",
       "count  776.000000  \n",
       "mean     0.626289  \n",
       "std      0.484100  \n",
       "min      0.000000  \n",
       "25%      0.000000  \n",
       "50%      1.000000  \n",
       "75%      1.000000  \n",
       "max      1.000000  "
      ]
     },
     "execution_count": 9,
     "metadata": {},
     "output_type": "execute_result"
    }
   ],
   "source": [
    "data.describe()"
   ]
  },
  {
   "cell_type": "code",
   "execution_count": 13,
   "id": "81fcced1-2e09-4f04-b58e-72c1ad6829ba",
   "metadata": {},
   "outputs": [
    {
     "name": "stdout",
     "output_type": "stream",
     "text": [
      "<class 'pandas.core.frame.DataFrame'>\n",
      "RangeIndex: 776 entries, 0 to 775\n",
      "Data columns (total 11 columns):\n",
      " #   Column         Non-Null Count  Dtype  \n",
      "---  ------         --------------  -----  \n",
      " 0   Unnamed: 0     776 non-null    int64  \n",
      " 1   PARA_A         776 non-null    float64\n",
      " 2   PARA_B         776 non-null    float64\n",
      " 3   TOTAL          776 non-null    float64\n",
      " 4   Sector_score   776 non-null    float64\n",
      " 5   numbers        776 non-null    float64\n",
      " 6   LOSS_SCORE     776 non-null    int64  \n",
      " 7   Money_Value    776 non-null    float64\n",
      " 8   History_score  776 non-null    int64  \n",
      " 9   District       776 non-null    int64  \n",
      " 10  Risk           776 non-null    int64  \n",
      "dtypes: float64(6), int64(5)\n",
      "memory usage: 66.8 KB\n"
     ]
    }
   ],
   "source": [
    "data.info()"
   ]
  },
  {
   "cell_type": "code",
   "execution_count": 14,
   "id": "6d40c1a5-2f78-40c7-b065-eee8db6de22f",
   "metadata": {},
   "outputs": [
    {
     "name": "stderr",
     "output_type": "stream",
     "text": [
      "C:\\Users\\ASUS\\AppData\\Local\\Temp\\ipykernel_42800\\2345065829.py:1: FutureWarning: A value is trying to be set on a copy of a DataFrame or Series through chained assignment using an inplace method.\n",
      "The behavior will change in pandas 3.0. This inplace method will never work because the intermediate object on which we are setting values always behaves as a copy.\n",
      "\n",
      "For example, when doing 'df[col].method(value, inplace=True)', try using 'df.method({col: value}, inplace=True)' or df[col] = df[col].method(value) instead, to perform the operation inplace on the original object.\n",
      "\n",
      "\n",
      "  data.Money_Value.fillna(data.Money_Value.median() , inplace=True)\n"
     ]
    }
   ],
   "source": [
    "data.Money_Value.fillna(data.Money_Value.median() , inplace=True)"
   ]
  },
  {
   "cell_type": "code",
   "execution_count": 18,
   "id": "a7c7ac1e-8f62-4cdd-8823-5792098afbff",
   "metadata": {},
   "outputs": [
    {
     "name": "stderr",
     "output_type": "stream",
     "text": [
      "C:\\Users\\ASUS\\AppData\\Local\\Temp\\ipykernel_42800\\1729005104.py:1: FutureWarning: \n",
      "\n",
      "Passing `palette` without assigning `hue` is deprecated and will be removed in v0.14.0. Assign the `x` variable to `hue` and set `legend=False` for the same effect.\n",
      "\n",
      "  plot = sns.countplot(data.Risk, edgecolor = 'black', palette = [ '#00C851','#ff4444'])\n",
      "C:\\Users\\ASUS\\AppData\\Local\\Temp\\ipykernel_42800\\1729005104.py:1: UserWarning: \n",
      "The palette list has fewer values (2) than needed (776) and will cycle, which may produce an uninterpretable plot.\n",
      "  plot = sns.countplot(data.Risk, edgecolor = 'black', palette = [ '#00C851','#ff4444'])\n"
     ]
    },
    {
     "data": {
      "image/png": "[encoded data removed]",
      "text/plain": [
       "<Figure size 640x480 with 1 Axes>"
      ]
     },
     "metadata": {},
     "output_type": "display_data"
    },
    {
     "name": "stdout",
     "output_type": "stream",
     "text": [
      "Percentage difference = 0.0%\n"
     ]
    }
   ],
   "source": [
    "plot = sns.countplot(data.Risk, edgecolor = 'black', palette = [ '#00C851','#ff4444'])\n",
    "\n",
    "bars = plot.patches\n",
    "\n",
    "plot.annotate(bars[0].get_height(), (0, bars[0].get_height()/2),\n",
    "              ha = 'center', fontsize = 15, color = 'black')\n",
    "\n",
    "plot.annotate(bars[1].get_height(), (1, bars[1].get_height()/2),\n",
    "              ha = 'center', fontsize = 15, color = 'black')\n",
    "\n",
    "plt.show()\n",
    "\n",
    "percentage_diff = round(100*(bars[0].get_height() - bars[1].get_height())/((bars[0].get_height() + bars[1].get_height())/2),1)\n",
    "\n",
    "print(f'Percentage difference = {percentage_diff}%')"
   ]
  },
  {
   "cell_type": "code",
   "execution_count": 22,
   "id": "6fd732b6-d256-432f-8fb5-bb1d9cb78b10",
   "metadata": {},
   "outputs": [
    {
     "ename": "IndentationError",
     "evalue": "unindent does not match any outer indentation level (<string>, line 9)",
     "output_type": "error",
     "traceback": [
      "\u001b[1;36m  File \u001b[1;32m<string>:9\u001b[1;36m\u001b[0m\n\u001b[1;33m    sns.heatmap(lower_triangle, center=0.5, cmap= 'Blues', xticklabels = corr.index,\u001b[0m\n\u001b[1;37m                                                                                    ^\u001b[0m\n\u001b[1;31mIndentationError\u001b[0m\u001b[1;31m:\u001b[0m unindent does not match any outer indentation level\n"
     ]
    }
   ],
   "source": [
    "def correlation_plot(data):\n",
    "    \n",
    "    corr = abs(data.corr()) # correlation matrix\n",
    "    lower_triangle = np.tril(corr, k = -1) \n",
    "    mask = lower_triangle == 0  # to mask the upper triangle in the following heatmap\n",
    "\n",
    "    plt.figure(figsize = (15,10))  # setting the figure size\n",
    "    sns.set_style(style = 'white')  # Setting it to white so that we do not see the grid lines\n",
    "   sns.heatmap(lower_triangle, center=0.5, cmap= 'Blues', xticklabels = corr.index,\n",
    "               # yticklabels = corr.columns,cbar = False, annot= True, linewidths= 1, mask = mask)   # Da Heatmap\n",
    "    plt.show()\n",
    "    \n",
    "correlation_plot(data)"
   ]
  },
  {
   "cell_type": "code",
   "execution_count": 24,
   "id": "3f3156c1-2e70-429a-b376-b58486b15d52",
   "metadata": {},
   "outputs": [],
   "source": [
    "data.drop(columns='TOTAL', inplace=True)"
   ]
  },
  {
   "cell_type": "code",
   "execution_count": 26,
   "id": "ad273207-8ab5-4397-b0c3-eec535875ef5",
   "metadata": {},
   "outputs": [
    {
     "data": {
      "text/html": [
       "<div>\n",
       "<style scoped>\n",
       "    .dataframe tbody tr th:only-of-type {\n",
       "        vertical-align: middle;\n",
       "    }\n",
       "\n",
       "    .dataframe tbody tr th {\n",
       "        vertical-align: top;\n",
       "    }\n",
       "\n",
       "    .dataframe thead th {\n",
       "        text-align: right;\n",
       "    }\n",
       "</style>\n",
       "<table border=\"1\" class=\"dataframe\">\n",
       "  <thead>\n",
       "    <tr style=\"text-align: right;\">\n",
       "      <th></th>\n",
       "      <th>Unnamed: 0</th>\n",
       "      <th>PARA_A</th>\n",
       "      <th>PARA_B</th>\n",
       "      <th>Sector_score</th>\n",
       "      <th>numbers</th>\n",
       "      <th>LOSS_SCORE</th>\n",
       "      <th>Money_Value</th>\n",
       "      <th>History_score</th>\n",
       "      <th>District</th>\n",
       "      <th>Risk</th>\n",
       "    </tr>\n",
       "  </thead>\n",
       "  <tbody>\n",
       "    <tr>\n",
       "      <th>0</th>\n",
       "      <td>0</td>\n",
       "      <td>4.18</td>\n",
       "      <td>2.50</td>\n",
       "      <td>3.89</td>\n",
       "      <td>5.0</td>\n",
       "      <td>2</td>\n",
       "      <td>3.38</td>\n",
       "      <td>2</td>\n",
       "      <td>2</td>\n",
       "      <td>1</td>\n",
       "    </tr>\n",
       "    <tr>\n",
       "      <th>1</th>\n",
       "      <td>1</td>\n",
       "      <td>0.00</td>\n",
       "      <td>4.83</td>\n",
       "      <td>3.89</td>\n",
       "      <td>5.0</td>\n",
       "      <td>2</td>\n",
       "      <td>0.94</td>\n",
       "      <td>2</td>\n",
       "      <td>2</td>\n",
       "      <td>0</td>\n",
       "    </tr>\n",
       "    <tr>\n",
       "      <th>2</th>\n",
       "      <td>2</td>\n",
       "      <td>0.51</td>\n",
       "      <td>0.23</td>\n",
       "      <td>3.89</td>\n",
       "      <td>5.0</td>\n",
       "      <td>2</td>\n",
       "      <td>0.00</td>\n",
       "      <td>2</td>\n",
       "      <td>2</td>\n",
       "      <td>0</td>\n",
       "    </tr>\n",
       "    <tr>\n",
       "      <th>3</th>\n",
       "      <td>3</td>\n",
       "      <td>0.00</td>\n",
       "      <td>10.80</td>\n",
       "      <td>3.89</td>\n",
       "      <td>6.0</td>\n",
       "      <td>2</td>\n",
       "      <td>11.75</td>\n",
       "      <td>2</td>\n",
       "      <td>2</td>\n",
       "      <td>1</td>\n",
       "    </tr>\n",
       "    <tr>\n",
       "      <th>4</th>\n",
       "      <td>4</td>\n",
       "      <td>0.00</td>\n",
       "      <td>0.08</td>\n",
       "      <td>3.89</td>\n",
       "      <td>5.0</td>\n",
       "      <td>2</td>\n",
       "      <td>0.00</td>\n",
       "      <td>2</td>\n",
       "      <td>2</td>\n",
       "      <td>0</td>\n",
       "    </tr>\n",
       "  </tbody>\n",
       "</table>\n",
       "</div>"
      ],
      "text/plain": [
       "   Unnamed: 0  PARA_A  PARA_B  Sector_score  numbers  LOSS_SCORE  Money_Value  \\\n",
       "0           0    4.18    2.50          3.89      5.0           2         3.38   \n",
       "1           1    0.00    4.83          3.89      5.0           2         0.94   \n",
       "2           2    0.51    0.23          3.89      5.0           2         0.00   \n",
       "3           3    0.00   10.80          3.89      6.0           2        11.75   \n",
       "4           4    0.00    0.08          3.89      5.0           2         0.00   \n",
       "\n",
       "   History_score  District  Risk  \n",
       "0              2         2     1  \n",
       "1              2         2     0  \n",
       "2              2         2     0  \n",
       "3              2         2     1  \n",
       "4              2         2     0  "
      ]
     },
     "execution_count": 26,
     "metadata": {},
     "output_type": "execute_result"
    }
   ],
   "source": [
    "data.head()"
   ]
  },
  {
   "cell_type": "code",
   "execution_count": 31,
   "id": "2bc035cc-405f-40e6-bbe3-22c872ffa5c4",
   "metadata": {},
   "outputs": [],
   "source": [
    "from sklearn.model_selection import train_test_split \n",
    "\n",
    "X= data.iloc[:,:-1]\n",
    "Y=data.iloc[:,-1]\n",
    "\n",
    "X_train , X_test , Y_train,Y_test = train_test_split (X,Y, test_size = 0.2 ,random_state =1)"
   ]
  },
  {
   "cell_type": "code",
   "execution_count": 33,
   "id": "3b3d9bdc-3091-46be-a831-df427265017d",
   "metadata": {},
   "outputs": [
    {
     "data": {
      "text/plain": [
       "Index(['Unnamed: 0', 'PARA_A', 'PARA_B', 'Sector_score', 'numbers',\n",
       "       'LOSS_SCORE', 'Money_Value', 'History_score', 'District'],\n",
       "      dtype='object')"
      ]
     },
     "execution_count": 33,
     "metadata": {},
     "output_type": "execute_result"
    }
   ],
   "source": [
    "X_train.columns"
   ]
  },
  {
   "cell_type": "code",
   "execution_count": 35,
   "id": "b612400f-0141-456f-9322-5a2bb27f8bca",
   "metadata": {},
   "outputs": [
    {
     "data": {
      "text/plain": [
       "'Risk'"
      ]
     },
     "execution_count": 35,
     "metadata": {},
     "output_type": "execute_result"
    }
   ],
   "source": [
    "Y_train.name"
   ]
  },
  {
   "cell_type": "code",
   "execution_count": 38,
   "id": "733b4bb5-f802-4c52-a31d-c492bc5b3e79",
   "metadata": {},
   "outputs": [],
   "source": [
    "from sklearn.tree import DecisionTreeClassifier\n"
   ]
  },
  {
   "cell_type": "code",
   "execution_count": 39,
   "id": "30da7e31-9c34-49f3-a0a1-fe8a001c94d4",
   "metadata": {},
   "outputs": [
    {
     "ename": "NameError",
     "evalue": "name 'DecisionTreeRegressor' is not defined",
     "output_type": "error",
     "traceback": [
      "\u001b[1;31m---------------------------------------------------------------------------\u001b[0m",
      "\u001b[1;31mNameError\u001b[0m                                 Traceback (most recent call last)",
      "Cell \u001b[1;32mIn[39], line 1\u001b[0m\n\u001b[1;32m----> 1\u001b[0m dt\u001b[38;5;241m=\u001b[39m \u001b[43mDecisionTreeRegressor\u001b[49m()\n\u001b[0;32m      2\u001b[0m dt\u001b[38;5;241m.\u001b[39mfit(X_train,y_train)\n\u001b[0;32m      3\u001b[0m dt\u001b[38;5;241m.\u001b[39mscore(X_train , y_train)\u001b[38;5;241m*\u001b[39m\u001b[38;5;241m100\u001b[39m , dt\u001b[38;5;241m.\u001b[39mscore(X_test,y_test)\u001b[38;5;241m*\u001b[39m\u001b[38;5;241m100\u001b[39m\n",
      "\u001b[1;31mNameError\u001b[0m: name 'DecisionTreeRegressor' is not defined"
     ]
    }
   ],
   "source": []
  },
  {
   "cell_type": "code",
   "execution_count": 41,
   "id": "50c8920d-e4cb-4eaf-97c6-9a3cae9c109d",
   "metadata": {},
   "outputs": [
    {
     "name": "stdout",
     "output_type": "stream",
     "text": [
      "(582, 9)\n",
      "(582,)\n",
      "(194, 9)\n",
      "(194,)\n"
     ]
    }
   ],
   "source": [
    "X_train, X_test, Y_train, Y_test = train_test_split(X, Y, test_size=0.25, random_state=42)\n",
    "print(X_train.shape)\n",
    "print(Y_train.shape)\n",
    "print(X_test.shape)\n",
    "print(Y_test.shape)"
   ]
  },
  {
   "cell_type": "code",
   "execution_count": 45,
   "id": "9a9bd694-23db-4b65-a0dc-85ebce04d80a",
   "metadata": {},
   "outputs": [
    {
     "data": {
      "text/plain": [
       "(100.0, 100.0)"
      ]
     },
     "execution_count": 45,
     "metadata": {},
     "output_type": "execute_result"
    }
   ],
   "source": [
    "dt= DecisionTreeClassifier()\n",
    "dt.fit(X_train,Y_train)\n",
    "dt.score(X_train , Y_train)*100 , dt.score(X_test,Y_test)*100"
   ]
  },
  {
   "cell_type": "code",
   "execution_count": 52,
   "id": "cd08b5f1-04cc-498f-906e-9ffc9b0fd060",
   "metadata": {},
   "outputs": [],
   "source": [
    "def fit_n_print(model, X_train, X_test, Y_train, Y_test) : \n",
    "    from sklearn import metrics\n",
    "    from sklearn.model_selection import cross_val_score\n",
    "    \n",
    "    model.fit(X_train, Y_train)\n",
    "\n",
    "    pred = model.predict(X_test) \n",
    "\n",
    "    score = round(model.score(X_test, Y_test), 3)   \n",
    "\n",
    "\n",
    "    tn, fp, fn, tp = metrics.confusion_matrix(Y_test, pred).ravel()  # compute the confusion matrix from the predictions and actuals\n",
    "\n",
    "    recall = round(tp/(tp+fn), 3)   \n",
    "    precision = round(tp/(tp+fp), 3)  \n",
    "    specificity =round(tn/(tn+fp),3) \n",
    "    f1_score =  round(2*precision*recall/(precision + recall), 3)\n",
    "    \n",
    "   \n",
    "    return score, recall, precision, specificity, f1_score  # return all the metrics"
   ]
  },
  {
   "cell_type": "code",
   "execution_count": 53,
   "id": "bd55bb84-02a8-4b70-b496-6321ae46dcd3",
   "metadata": {},
   "outputs": [],
   "source": [
    "metrics = fit_n_print(dt, X_train, X_test, Y_train, Y_test)\n",
    "\n",
    "result = pd.DataFrame(columns = ['score', 'recall', 'precision', 'specificity', 'f1_score'])\n",
    "\n",
    "result.loc['Decision Tree'] = metrics"
   ]
  },
  {
   "cell_type": "code",
   "execution_count": 54,
   "id": "867b307d-307b-456c-837c-6e88e47bb6e8",
   "metadata": {},
   "outputs": [
    {
     "data": {
      "text/html": [
       "<div>\n",
       "<style scoped>\n",
       "    .dataframe tbody tr th:only-of-type {\n",
       "        vertical-align: middle;\n",
       "    }\n",
       "\n",
       "    .dataframe tbody tr th {\n",
       "        vertical-align: top;\n",
       "    }\n",
       "\n",
       "    .dataframe thead th {\n",
       "        text-align: right;\n",
       "    }\n",
       "</style>\n",
       "<table border=\"1\" class=\"dataframe\">\n",
       "  <thead>\n",
       "    <tr style=\"text-align: right;\">\n",
       "      <th></th>\n",
       "      <th>score</th>\n",
       "      <th>recall</th>\n",
       "      <th>precision</th>\n",
       "      <th>specificity</th>\n",
       "      <th>f1_score</th>\n",
       "    </tr>\n",
       "  </thead>\n",
       "  <tbody>\n",
       "    <tr>\n",
       "      <th>Decision Tree</th>\n",
       "      <td>1.0</td>\n",
       "      <td>1.0</td>\n",
       "      <td>1.0</td>\n",
       "      <td>1.0</td>\n",
       "      <td>1.0</td>\n",
       "    </tr>\n",
       "  </tbody>\n",
       "</table>\n",
       "</div>"
      ],
      "text/plain": [
       "               score  recall  precision  specificity  f1_score\n",
       "Decision Tree    1.0     1.0        1.0          1.0       1.0"
      ]
     },
     "execution_count": 54,
     "metadata": {},
     "output_type": "execute_result"
    }
   ],
   "source": [
    "result"
   ]
  },
  {
   "cell_type": "code",
   "execution_count": 55,
   "id": "84f6eee4-0558-4aa3-bdaa-9067f7a7effe",
   "metadata": {},
   "outputs": [
    {
     "data": {
      "text/html": [
       "<div>\n",
       "<style scoped>\n",
       "    .dataframe tbody tr th:only-of-type {\n",
       "        vertical-align: middle;\n",
       "    }\n",
       "\n",
       "    .dataframe tbody tr th {\n",
       "        vertical-align: top;\n",
       "    }\n",
       "\n",
       "    .dataframe thead th {\n",
       "        text-align: right;\n",
       "    }\n",
       "</style>\n",
       "<table border=\"1\" class=\"dataframe\">\n",
       "  <thead>\n",
       "    <tr style=\"text-align: right;\">\n",
       "      <th></th>\n",
       "      <th>features</th>\n",
       "      <th>Importance</th>\n",
       "    </tr>\n",
       "  </thead>\n",
       "  <tbody>\n",
       "    <tr>\n",
       "      <th>0</th>\n",
       "      <td>Unnamed: 0</td>\n",
       "      <td>0.030524</td>\n",
       "    </tr>\n",
       "    <tr>\n",
       "      <th>1</th>\n",
       "      <td>PARA_A</td>\n",
       "      <td>0.549823</td>\n",
       "    </tr>\n",
       "    <tr>\n",
       "      <th>2</th>\n",
       "      <td>PARA_B</td>\n",
       "      <td>0.185541</td>\n",
       "    </tr>\n",
       "    <tr>\n",
       "      <th>3</th>\n",
       "      <td>Sector_score</td>\n",
       "      <td>0.000000</td>\n",
       "    </tr>\n",
       "    <tr>\n",
       "      <th>4</th>\n",
       "      <td>numbers</td>\n",
       "      <td>0.014277</td>\n",
       "    </tr>\n",
       "    <tr>\n",
       "      <th>5</th>\n",
       "      <td>LOSS_SCORE</td>\n",
       "      <td>0.014008</td>\n",
       "    </tr>\n",
       "    <tr>\n",
       "      <th>6</th>\n",
       "      <td>Money_Value</td>\n",
       "      <td>0.046046</td>\n",
       "    </tr>\n",
       "    <tr>\n",
       "      <th>7</th>\n",
       "      <td>History_score</td>\n",
       "      <td>0.000000</td>\n",
       "    </tr>\n",
       "    <tr>\n",
       "      <th>8</th>\n",
       "      <td>District</td>\n",
       "      <td>0.159782</td>\n",
       "    </tr>\n",
       "  </tbody>\n",
       "</table>\n",
       "</div>"
      ],
      "text/plain": [
       "        features  Importance\n",
       "0     Unnamed: 0    0.030524\n",
       "1         PARA_A    0.549823\n",
       "2         PARA_B    0.185541\n",
       "3   Sector_score    0.000000\n",
       "4        numbers    0.014277\n",
       "5     LOSS_SCORE    0.014008\n",
       "6    Money_Value    0.046046\n",
       "7  History_score    0.000000\n",
       "8       District    0.159782"
      ]
     },
     "execution_count": 55,
     "metadata": {},
     "output_type": "execute_result"
    }
   ],
   "source": [
    "feature_importances = pd.DataFrame({'features': X_train.columns, 'Importance': dt.feature_importances_})\n",
    "feature_importances"
   ]
  },
  {
   "cell_type": "code",
   "execution_count": null,
   "id": "82150fb8-fddc-41d5-bf10-69f196532927",
   "metadata": {},
   "outputs": [],
   "source": []
  }
 ],
 "metadata": {
  "kernelspec": {
   "display_name": "Python 3 (ipykernel)",
   "language": "python",
   "name": "python3"
  },
  "language_info": {
   "codemirror_mode": {
    "name": "ipython",
    "version": 3
   },
   "file_extension": ".py",
   "mimetype": "text/x-python",
   "name": "python",
   "nbconvert_exporter": "python",
   "pygments_lexer": "ipython3",
   "version": "3.12.4"
  }
 },
 "nbformat": 4,
 "nbformat_minor": 5
}
